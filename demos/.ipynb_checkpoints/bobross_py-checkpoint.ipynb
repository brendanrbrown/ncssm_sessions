{
 "cells": [
  {
   "cell_type": "markdown",
   "metadata": {},
   "source": [
    "## Bob Ross example: python\n",
    "\n",
    "Bob Ross left a long Air Force career to start a painting career and eventually hosted a PBS show called the Joy of Painting, in which Bob paints one landscape per episode in the [wet-on-wet style](https://en.wikipedia.org/wiki/Wet-on-wet). The Joy of Painting ran in the 1980s-90s, but several years ago Twitch streamed all episodes in a marathon. Now you can watch them on youtube, netflix etc.\n",
    "\n",
    "We're going to use a dataset [jwilber](https://github.com/jwilber/Bob_Ross_Paintings) grabbed from [twoinchbrush](twoinchbrush.com), which has all photos, video and color data for all of the show's paintings.\n",
    "\n",
    "### A light intro to coding\n",
    "This is not a coding tutorial, really. It's a demo to get you excited about what you can do with a little bit of coding. It will expose you to the basic method for running code in a Jupyter notebook (this document!) using simple functions that will:\n",
    "\n",
    "- load the dataset in .csv format (think of this as a spreadsheet) using the [pandas](https://pandas.pydata.org/pandas-docs/stable/index.html) module for python\n",
    "- view painting names from all seasons\n",
    "- plot blobs or point clouds with colors used in a painting of your choice, or one that is randomly chosen\n",
    "- generate summary tables about how often Bob used one color or the other in the Joy of Painting\n",
    "\n",
    "### python v. R demos\n",
    "In this demo you will use [python](https://www.python.org/), one of the most flexible and popular open-source coding languages---from app development, to scientific computing.\n",
    "\n",
    "This demo also has a version in R, another open-source language for scientific and statistical computing.\n",
    "\n",
    "You'll see hardly any difference between the two versions! They are meant to work similarly. If you decide to follow the 'next_bobross' demos, these R/python starters and the module they load give you code to refer back to as you figure out which language(s) you like to use."
   ]
  },
  {
   "cell_type": "markdown",
   "metadata": {},
   "source": [
    "## Part 1: Avert your eyes!\n",
    "This code chunk has all functions you'll need. Don't worry about what it means. It defines the functions we need in the demo and is here for later reference, if you want it. \n",
    "\n",
    "### Run then skip ahead to Prt 2.\n",
    "Run the following section in the notebook by selecting it and pressing Crtl+Enter, or pressing the 'play' icon at the top of this notebook."
   ]
  },
  {
   "cell_type": "code",
   "execution_count": null,
   "metadata": {},
   "outputs": [],
   "source": [
    "import re\n",
    "import sys\n",
    "import pandas as pd\n",
    "import numpy as np\n",
    "import matplotlib.pyplot as plt\n",
    "\n",
    "\n",
    "# HELPER FUNCTIONS\n",
    "pat = re.compile(r\"\\\\r|\\\\n|[\\[\\]']\")\n",
    "\n",
    "def get_bobross():\n",
    "\tbob = pd.read_csv(\"https://raw.githubusercontent.com/brendanrbrown/ncssm_sessions/master/data/bob_ross_paintings.csv\")\n",
    "\tbob = bob.assign(colors = bob.colors.replace(pat, \"\").str.split(r\"\\s*,\\s*\"), \n",
    "\t\tcolor_hex = bob.color_hex.replace(pat, \"\").str.split(r\"\\s*,\\s*\"))\n",
    "\n",
    "\treturn bob\n",
    "\n",
    "\n",
    "def get_help():\n",
    "\t# help file for students who forget usage\n",
    "  \t# either with one argument, bare unquoted function name, to print usage for that fun\n",
    "  \t# or no arguments to print all\n",
    "\treturn \"TO DO\"\n",
    "\n",
    "\n",
    "\n",
    "# VIEW DATA\n",
    "\n",
    "def get_colortable():\n",
    "    return pd.concat([bob.colors.explode(), bob.color_hex.explode()], axis = 1).drop_duplicates()\n",
    "\n",
    "\n",
    "def get_painting_names(random = False):\n",
    "\tif random:\n",
    "\t\treturn np.random.choice(bob.painting_title.array)\n",
    "\t\t# return bob.painting_title.sample(1).iloc[0]\n",
    "\telse:\n",
    "\t\treturn bob.loc[:, \"painting_title\"]\n",
    "\n",
    "    \n",
    "def plot_blobs(painting = \"Downstream View\"):\n",
    "\t# check that bob has been loaded, return informative error\n",
    "\n",
    "\t# Filter & reshape data\n",
    "\t# .loc[...] returns dataframe, .iloc[0] returns first row as named series\n",
    "\td = bob.loc[bob.painting_title == painting, ['colors', 'color_hex']].iloc[0]\n",
    "\td = pd.DataFrame({'colors': d['colors'], 'color_hex': d['color_hex']})\n",
    "\n",
    "\t# Generate random point in two dimensional box from -10 to 10\n",
    "\td = d.assign(x = np.random.uniform(low = -10, high = 10, size = d.shape[0]),\n",
    "\t\ty = np.random.uniform(low = -10, high = 10, size = d.shape[0]))\n",
    "\n",
    "\tp = d.plot.scatter(x = 'x', y = 'y', s = pd.Series(8000, index = d.colors),\n",
    "\t\ttitle = painting,\n",
    "\t\talpha = .7, c = d['color_hex'],\n",
    "\t\txlim = (-12, 12), ylim = (-12, 12),  \n",
    "\t\txticks = None, figsize = (12, 8)) # (width, height) in inches\n",
    "\n",
    "\tfor i, r in d.iterrows():\n",
    "\t\tp.annotate(text = r['colors'], xy = (r['x']-1.25, r['y'])) # no good centering\n",
    "\n",
    "\t# display\n",
    "\tp\n",
    "\tplt.axis('off')\n",
    "\tplt.show()\n",
    "\n",
    "\treturn None\n",
    "\n",
    "\n",
    "def plot_cloud(painting = \"Downstream View\"):\n",
    "\t# check that bob has been loaded, return informative error\n",
    "\n",
    "\t# Filter & reshape data\n",
    "\td = bob.loc[bob.painting_title == painting, ['colors', 'color_hex']].iloc[0]\n",
    "\td = pd.DataFrame({'colors': d['colors'], 'color_hex': d['color_hex']})\n",
    "\td.colors = d.colors.str.strip()\n",
    "\td.color_hex = d.color_hex.str.strip()\n",
    "\n",
    "\t# Generate centers of clouds in two dimensional box from -10 to 10\n",
    "\td = d.assign(x = np.random.uniform(low = -10, high = 10, size = d.shape[0]),\n",
    "\t\ty = np.random.uniform(low = -10, high = 10, size = d.shape[0]))\n",
    "\n",
    "\t# Create new data frame in chunks of rows\n",
    "\t# with point cloud coordinates and colors, color_hex labels\n",
    "\td = d.assign(cloud = d.apply(lambda r: np.random.multivariate_normal([r['x'], r['y']], [[1, 0], [0, 1]], \n",
    "\t\t\t\tsize = 100), axis = 1)\n",
    "\t\t\t\t)\n",
    "\n",
    "\t# 'explode' the cloud so we have one row for each 2d random point, 100 for each color\n",
    "\t# replace x, y column values with cloud values, drop cloud, to use familiar syntax from plot_blob\n",
    "\td = d.explode('cloud').reset_index()\n",
    "\td[[\"x\", \"y\"]] = d.cloud.to_list()\n",
    "\td = d.drop('cloud', axis = 1)\n",
    "\n",
    "\n",
    "\td.plot.scatter(x = 'x', y = 'y', s = pd.Series(3000, index = d.colors),\n",
    "\t\ttitle = painting,\n",
    "\t\talpha = .7, c = d['color_hex'],\n",
    "\t\txlim = (-12, 12), ylim = (-12, 12),  \n",
    "\t\txticks = None, figsize = (12, 8))\n",
    "\t\n",
    "\tplt.axis('off')\n",
    "\tplt.show()\n",
    "\n",
    "\treturn None\n",
    "\n",
    "\n",
    "\n",
    "# SUMMARIZE DATA\n",
    "\n",
    "def colors_show(color = \"all\"):\n",
    "    # for simplicity just one color or all\n",
    "    # getting list of colors\n",
    "    ctable = get_colortable()\n",
    "\n",
    "    if color==\"all\":\n",
    "        return bob.loc[:, ctable.colors.str.replace(r'\\s+', \"_\")].sum()\n",
    "    elif not any(ctable.colors==color):\n",
    "        sys.exit('Invalid color argument input. \\\n",
    "            Use \"all\" to see all colors or one color name (with caps!), e.g. \"Dark Sienna\",\\\n",
    "            as they appear in the data frame column called \"color\". \\\n",
    "            Check available colors with get_colortable()')\n",
    "    else:\n",
    "        # replacing space with _ to match actual column names\n",
    "        color = re.sub(r\"\\s+\", \"_\", color)\n",
    "        return bob.loc[:, color].sum()\n",
    "\n",
    "def colors_byseason(color = \"all\", stat = \"total\"):\n",
    "\tctable = get_colortable()\n",
    "\n",
    "\tif color==\"all\":\n",
    "\t\td = pd.concat([bob.loc[:, ctable.colors.str.replace(r'\\s+', \"_\")], bob.loc[:, 'season']], \n",
    "\t\t\taxis = 1)\n",
    "\t\tif stat==\"total\":\n",
    "\t\t\treturn d.groupby('season').sum()\n",
    "\t\telif stat==\"mean\":\n",
    "\t\t\treturn d.groupby('season').mean()\n",
    "\t\telse:\n",
    "\t\t\tsys.exit('Invalid stat argument. Use \"total\" or \"mean\", for average number of uses by season.')\n",
    "\n",
    "\telif not any(ctable.colors==color):\n",
    "\t\tsys.exit('Invalid color argument input. \\\n",
    "\t\t\t\tUse \"all\" to see all colors or one color name (with caps!), e.g. \"Dark Sienna\",\\\n",
    "\t\t\t\tas they appear in the data frame column called \"color\". \\\n",
    "\t\t\t\tCheck available colors with get_colortable()')\n",
    "\n",
    "\telse:\n",
    "\t\t# replacing space with _ to match actual column names\n",
    "\t\tcolor = re.sub(r\"\\s+\", \"_\", color)\n",
    "\t\tif stat==\"total\":\n",
    "\t\t\treturn bob.loc[:, [\"season\"]+[color]].groupby('season').sum()\n",
    "\t\telif stat==\"mean\":\n",
    "\t\t\treturn bob.loc[:, [\"season\"]+[color]].groupby('season').mean()\n",
    "\t\telse:\n",
    "\t\t\tsys.exit('Invalid stat argument. Use \"total\" or \"mean\", for average number of uses by season.')"
   ]
  },
  {
   "cell_type": "markdown",
   "metadata": {},
   "source": [
    "## Part 2: Load the data\n",
    "Run the following code chunk (select the chunk then press Ctrl+Enter).\n",
    "\n",
    "**Here you run the get_bobross() function to**\n",
    "\n",
    "- load the csv file\n",
    "- into a 'data frame'\n",
    "- called 'bob', which holds all of the data here\n",
    "\n",
    "#### What is a data frame?\n",
    "Think of it as a spreadsheet. It has rows and columns, and each cell holds some data: a word, a number, a list of words.\n",
    "\n",
    "![](https://pandas.pydata.org/pandas-docs/stable/_images/01_table_dataframe1.svg)\n",
    "\n",
    "Image source: pandas.pydata.org"
   ]
  },
  {
   "cell_type": "code",
   "execution_count": null,
   "metadata": {},
   "outputs": [],
   "source": [
    "bob = get_bobross()\n",
    "bob"
   ]
  },
  {
   "cell_type": "markdown",
   "metadata": {},
   "source": [
    "## Part 3: First look at the data\n",
    "\n",
    "Subsequent functions we run now can access the 'bob' dataset.\n",
    "\n",
    "How do you know you did anything when the code gives no output?\n",
    "\n",
    "**Here you run bob.columns to**\n",
    "- access a list of all column names for bob\n",
    "\n",
    "**Then you run the function get_painting_names() to**\n",
    "\n",
    "- print all painting names across all seasons of the Joy of Painting\n",
    "- in other words, you are printing the column called 'painting_title' in the bob data frame\n",
    "\n",
    "Since there are a lot of names, the display will only show the first and last several items, with the ellipses '...' in between to remind you there's more in the column than what is shown."
   ]
  },
  {
   "cell_type": "code",
   "execution_count": null,
   "metadata": {},
   "outputs": [],
   "source": [
    "bob.columns"
   ]
  },
  {
   "cell_type": "code",
   "execution_count": null,
   "metadata": {},
   "outputs": [],
   "source": [
    "get_painting_names()"
   ]
  },
  {
   "cell_type": "markdown",
   "metadata": {},
   "source": [
    "## Part 4: Functions and arguments\n",
    "\n",
    "A function does something then produces an output. It can take inputs, called arguments, or not. This is a universal concept in all coding languages, mathematics and beyond. We have seen two functions so far that take no inputs: get_bobross() and get_painting_names().\n",
    "\n",
    "### Arugments and defaults\n",
    "Many functions can be run with or without inputs (aka arguments). If you do not specify what an argument's value should be, then the function should use some default value.\n",
    "\n",
    "The function get_painting_names() in fact has one argument, called random. It tells the function whether to \n",
    "\n",
    "- print *all* painting names by specifying `random = False` in the parentheses\n",
    "- or to *pick a random one* by specifying `random = True`\n",
    "\n",
    "The default is `random = False`, as you can see from the fact that get_painting_names(), which specifies no arguments, gave us all names.\n",
    "\n",
    "**Here you run get_painting_names(random = True) to**\n",
    "\n",
    "- choose a random painting name from all possible values\n",
    "- run it several times to get different results!"
   ]
  },
  {
   "cell_type": "code",
   "execution_count": null,
   "metadata": {},
   "outputs": [],
   "source": [
    "get_painting_names(random = True)"
   ]
  },
  {
   "cell_type": "markdown",
   "metadata": {},
   "source": [
    "## Part 5: Make a plot of the colors used in a painting\n",
    "Plotting data is a great way to look at it. \n",
    "\n",
    "Our dataset has the colors Bob used for each painting, so let's check it out!\n",
    "\n",
    "**Here you run plot_blobs() to**\n",
    "\n",
    "- fill in circles with each of the colors used\n",
    "- in the painting \"Downstream View\"\n",
    "- where the circle locations are randomly chosen (run it several times!)\n",
    "- but the colors are the actual ones Bob used, as specified in our dataset"
   ]
  },
  {
   "cell_type": "code",
   "execution_count": null,
   "metadata": {},
   "outputs": [],
   "source": [
    "plot_blobs()"
   ]
  },
  {
   "cell_type": "markdown",
   "metadata": {},
   "source": [
    "### Downstream View, from twoinchbrush.com\n",
    "\n",
    "![](https://www.twoinchbrush.com/images/painting329.png)"
   ]
  },
  {
   "cell_type": "markdown",
   "metadata": {},
   "source": [
    "### Blobs for different paintings\n",
    "plot_blobs takes one argument, the name of the painting whose colors you want to plot. \"Downstream View\" is the default painting to use if you specify no arguments. Let's change it up.\n",
    "\n",
    "\n",
    "**Here you run plot_blobs(painting = \"Through the Window\") to**\n",
    "\n",
    "- plot color blobs as above, but for the specified painting instead of the default"
   ]
  },
  {
   "cell_type": "code",
   "execution_count": null,
   "metadata": {},
   "outputs": [],
   "source": [
    "plot_blobs(painting = \"Through the Window\")"
   ]
  },
  {
   "cell_type": "markdown",
   "metadata": {},
   "source": [
    "### arguments without the `=`\n",
    "If there is no confusion about which argument you are trying to specify, you can just put the argument value without the `argument name = argument value` syntax. This makes your code a little more concise and easier to read.\n",
    "\n",
    "Since plot_blobs has only one argument there is no confusion, and you can run"
   ]
  },
  {
   "cell_type": "code",
   "execution_count": null,
   "metadata": {},
   "outputs": [],
   "source": [
    "plot_blobs(\"Through the Window\")"
   ]
  },
  {
   "cell_type": "markdown",
   "metadata": {},
   "source": [
    "### Through the Window\n",
    "\n",
    "![](https://www.twoinchbrush.com/images/painting392.png)"
   ]
  },
  {
   "cell_type": "markdown",
   "metadata": {},
   "source": [
    "## Part 6: So much plotting you can do\n",
    "\n",
    "pandas, and python in general, has a *huge* amount of flexibility in plots you can create from data.  Here, we just *take one small step* away from plotting blobs to plotting point clouds with the plot_cloud function. You use it just like the plot_blobs function.\n",
    "\n",
    "**Here you run plot_cloud(\"Through the Window\") to**\n",
    "\n",
    "- generate a random point cloud for each color used in \"Through the Window\"\n",
    "- plot it, with the real color value as in plot_blobs"
   ]
  },
  {
   "cell_type": "code",
   "execution_count": null,
   "metadata": {},
   "outputs": [],
   "source": [
    "plot_cloud(\"Through the Window\")"
   ]
  },
  {
   "cell_type": "code",
   "execution_count": null,
   "metadata": {},
   "outputs": [],
   "source": [
    "get_painting_names(True)"
   ]
  },
  {
   "cell_type": "markdown",
   "metadata": {},
   "source": [
    "## Part 7: Output of one, input of other\n",
    "\n",
    "Each function has some output, and usually the function *returns* an object that can be used elsewhere in your code.\n",
    "\n",
    "For example, we saw the get_bobross() function returns a data frame, which we called bob by writing the code `bob = get_bobross()`.\n",
    "\n",
    "Similarly, we saw `get_painting_names(True)` returns a single painting name in quotations. Since this is exactly the kind of argument our plotting functions need, we can use the output of get_painting_names as the argument in plot_cloud!\n",
    "\n",
    "**Here you run plot_cloud(get_painting_names(True)) to**\n",
    "\n",
    "- first randomly choose a painting name (using the statement inside the outermost parentheses)\n",
    "- and use it as the argument for plot_cloud\n",
    "- to show color point clouds for a that random painting"
   ]
  },
  {
   "cell_type": "code",
   "execution_count": null,
   "metadata": {},
   "outputs": [],
   "source": [
    "plot_cloud(get_painting_names(True))\n",
    "plot_blobs(get_painting_names(True))"
   ]
  },
  {
   "cell_type": "markdown",
   "metadata": {},
   "source": [
    "### or save the painting name for multiple uses\n",
    "Using the `=` statement just like with `bob = get_bobross()` we can assign a randomly chosen painting name to an object for later use. Let's call it `rpaint`. This way we can plot blobs and clouds for the same painting. \n",
    "\n",
    "**Here you run rpaint = get_painting_names(True) to**\n",
    "\n",
    "- select a random painting name\n",
    "- store it as an object called rpaint\n",
    "\n",
    "**then plot_cloud(rpaint), plot_blobs(rpaint) to**\n",
    "\n",
    "- show blobs and clouds for the random painting chosen"
   ]
  },
  {
   "cell_type": "code",
   "execution_count": null,
   "metadata": {},
   "outputs": [],
   "source": [
    "rpaint = get_painting_names(True)\n",
    "rpaint"
   ]
  },
  {
   "cell_type": "code",
   "execution_count": null,
   "metadata": {},
   "outputs": [],
   "source": [
    "plot_cloud(rpaint)"
   ]
  },
  {
   "cell_type": "code",
   "execution_count": null,
   "metadata": {},
   "outputs": [],
   "source": [
    "plot_blobs(rpaint)"
   ]
  },
  {
   "cell_type": "markdown",
   "metadata": {},
   "source": [
    "### Part 8: Summarize the data\n",
    "\n",
    "Here we will just *dip a toe* into the vast pool of options for summarizing data with pandas in python. This section is not indended to show you *how* to do that, which requires more coding than we can cover, but to give you the idea of what can be done with relatively little experience or work.\n",
    "\n",
    "We will answer two questions...\n",
    "\n",
    "#### How many times each season did Bob use a given color?\n",
    "\n",
    "#### How many times did Bob use a given color, across all seasons?"
   ]
  },
  {
   "cell_type": "markdown",
   "metadata": {},
   "source": [
    "### How many times each season?\n",
    "\n",
    "The function colors_byseason by default returns the total number of times Bob used each color, for each television season.\n",
    "\n",
    "**Here you run colors_byseason() to**\n",
    "\n",
    "- return a data frame with the number of times Bob used a color, for each color and season"
   ]
  },
  {
   "cell_type": "code",
   "execution_count": null,
   "metadata": {},
   "outputs": [],
   "source": [
    "colors_byseason()"
   ]
  },
  {
   "cell_type": "markdown",
   "metadata": {},
   "source": [
    "### Too many columns to look at\n",
    "Looking at big tables can be annoying. Let's look at this information for just *one color*.\n",
    "\n",
    "The colors_byseason() function as an argument called `color`. Specify a color name to see the output for that color.\n",
    "\n",
    "**Here you run colors_byseason(color = \"Alizarin Crimson\") to**\n",
    "\n",
    "- return a data frame showing the number of times Bob used that color per season\n",
    "\n",
    "**Important!**\n",
    "\n",
    "Notice I wrote \"Alizarin Crimson\", as the color appears in the output of get_painting_names(). Typing \"alizarin crimson\", \"Alizarin_Crimson\" or anything else that is not *exactly* a painting name as written in the list will return an error.\n",
    "\n",
    "This is an important lesson in coding: You need to specify arguments exactly as the function requires them to be. If you wanted to allow variations of the same name, such as \"alizarin crimson\" or \"Alizarin_Crimson\", you would need to modify the function to interpret that input correctly!"
   ]
  },
  {
   "cell_type": "code",
   "execution_count": null,
   "metadata": {},
   "outputs": [],
   "source": [
    "colors_byseason(\"Alizarin Crimson\")"
   ]
  },
  {
   "cell_type": "markdown",
   "metadata": {},
   "source": [
    "#### Example of the error from mis-specifying your argument\n",
    "\n",
    "Whoops... See what went wrong in the `SystemExit` message. This error message written specially for this tutorial. Often python error messages are helpful, but just as often they are not.  They always come with a bunch of information you might not find useful, so learn to look for the relevant bits."
   ]
  },
  {
   "cell_type": "code",
   "execution_count": null,
   "metadata": {},
   "outputs": [],
   "source": [
    "colors_byseason(color = \"Alizarin\")"
   ]
  },
  {
   "cell_type": "markdown",
   "metadata": {},
   "source": [
    "### How many times across all seasons?\n",
    "\n",
    "This one is easier.\n",
    "\n",
    "**Here you run colors_show() to**\n",
    "\n",
    "- view the total number of times Bob used a color\n",
    "- across all seasons\n",
    "\n",
    "**and colors_show(\"Black Gesso\") to**\n",
    "\n",
    "- view the total number of times Bob used that color across all seasons"
   ]
  },
  {
   "cell_type": "code",
   "execution_count": null,
   "metadata": {},
   "outputs": [],
   "source": [
    "colors_show()"
   ]
  },
  {
   "cell_type": "code",
   "execution_count": null,
   "metadata": {},
   "outputs": [],
   "source": [
    "colors_show(\"Black Gesso\")"
   ]
  },
  {
   "cell_type": "markdown",
   "metadata": {},
   "source": [
    "# An exercise for you\n",
    "\n",
    "Actually, the function colors_by_season has two arguments! \n",
    "\n",
    "- `painting` which can be set equal to \"all\" (the default) or a specific painting name, as you saw above\n",
    "- `stat` which can be set to \"total\" (the default) to give total number of times a painting was used\n",
    "- or set `stat` to \"mean\" to give the *average* number of times a painting was used each season\n",
    "\n",
    "We might want to know the average number of times a painting was used because the number of episodes in each season varies.\n",
    "\n",
    "**Use the syntax `argument name = argument value` to input two arguments to colors_by_season and show the average number of times a painting was used, or all of them.**\n",
    "\n",
    "To specify multiple arguments for a function, use a comma between them inside the parentheses. "
   ]
  },
  {
   "cell_type": "code",
   "execution_count": null,
   "metadata": {},
   "outputs": [],
   "source": []
  },
  {
   "cell_type": "markdown",
   "metadata": {},
   "source": [
    "## On to the next level!\n",
    "\n",
    "See `next_bobross_py.ipynb`."
   ]
  }
 ],
 "metadata": {
  "kernelspec": {
   "display_name": "Python 3",
   "language": "python",
   "name": "python3"
  },
  "language_info": {
   "codemirror_mode": {
    "name": "ipython",
    "version": 3
   },
   "file_extension": ".py",
   "mimetype": "text/x-python",
   "name": "python",
   "nbconvert_exporter": "python",
   "pygments_lexer": "ipython3",
   "version": "3.8.2"
  }
 },
 "nbformat": 4,
 "nbformat_minor": 4
}
