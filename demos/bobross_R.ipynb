{
 "cells": [
  {
   "cell_type": "markdown",
   "metadata": {},
   "source": [
    "## Bob Ross example: R\n",
    "\n",
    "Bob Ross left a long Air Force career to start a painting career and eventually hosted a PBS show called the Joy of Painting, in which Bob paints one landscape per episode in the [wet-on-wet style](https://en.wikipedia.org/wiki/Wet-on-wet). The Joy of Painting ran in the 1980s-90s, but several years ago Twitch streamed all episodes in a marathon. Now you can watch them on youtube, netflix etc.\n",
    "\n",
    "We're going to use a dataset [jwilber](https://github.com/jwilber/Bob_Ross_Paintings) grabbed from [twoinchbrush](twoinchbrush.com), which has all photos, video and color data for all of the show's paintings.\n",
    "\n",
    "### A light intro to coding\n",
    "This is not a coding tutorial, really. It's a demo to get you excited about what you can do with a little bit of coding. It will expose you to the basic method for running code in a Jupyter notebook (this document!) using simple functions that will:\n",
    "\n",
    "- load the dataset in .csv format (think of this as a spreadsheet) using the [dplyr](https://dplyr.tidyverse.org/) and related libraries for R\n",
    "- view painting names from all seasons\n",
    "- plot blobs or point clouds with colors used in a painting of your choice, or one that is randomly chosen\n",
    "- generate summary tables about how often Bob used one color or the other in the Joy of Painting\n",
    "\n",
    "### python v. R demos\n",
    "In this demo you will use [R](https://www.r-project.org/), a widely-used open-source language for scientific and statistical computing.\n",
    "\n",
    "This demo also has a version in python.\n",
    "\n",
    "You'll see hardly any difference between the two versions! They are meant to work similarly. If you decide to follow the 'next_bobross' demos, these R/python starters and the modules they load give you code to refer back to as you figure out which language(s) you like to use."
   ]
  },
  {
   "cell_type": "markdown",
   "metadata": {},
   "source": [
    "## Part 1: Avert your eyes!\n",
    "This code chunk has all functions you'll need. Don't worry about what it means. It defines the functions we need in the demo and is here for later reference, if you want it. \n",
    "\n",
    "### Run then skip ahead to Prt 2.\n",
    "Run the following section in the notebook by selecting it and pressing Crtl+Enter, or pressing the 'play' icon at the top of this notebook."
   ]
  },
  {
   "cell_type": "code",
   "execution_count": null,
   "metadata": {},
   "outputs": [],
   "source": [
    "library(readr, warn.conflicts = F)\n",
    "library(dplyr, warn.conflicts = F)\n",
    "library(ggplot2, warn.conflicts = F)\n",
    "library(rlang, warn.conflicts = F)\n",
    "library(purrr, warn.conflicts = F)\n",
    "library(tidyr, warn.conflicts = F)\n",
    "library(stringr, warn.conflicts = F)\n",
    "\n",
    "\n",
    "# HELPERS\n",
    "get_bobross <- function(){\n",
    "  # CHANGE FILEPATH TO GITHUB SITE\n",
    "  bob <- read_csv(\"https://raw.githubusercontent.com/littlebuttermilk/ncssm_sessions/master/data/bob_ross_paintings.csv\",\n",
    "                  col_types = cols()) %>%\n",
    "  mutate(color_hex = str_replace_all(color_hex, \"[\\\\[\\\\s\\\\]']\", \"\") %>% str_split(., \",\"),\n",
    "         # uppercase hex causes problems for ggplot2?\n",
    "         color_hex = map(color_hex, tolower),\n",
    "         colors = str_replace_all(colors, \"[\\\\[\\\\]']|\\\\\\\\r|\\\\\\\\n\", \"\") %>% str_split(., \",\"),\n",
    "         colors = map(colors, str_trim))\n",
    "}\n",
    "\n",
    "get_help <- function(){\n",
    "  # TODO\n",
    "  # help file for students who forget usage\n",
    "  # either with one argument, bare unquoted function name, to print usage for that fun\n",
    "  # or no arguments to print all\n",
    "}\n",
    "\n",
    "\n",
    "# VIEW DATA\n",
    "get_painting_names <- function(random = FALSE){\n",
    "  # error rather than calling the fun as teaching moment\n",
    "  if (!exists(\"bob\", .GlobalEnv))\n",
    "    stop(\"You haven't loaded the dataset! Run get_bobross() first.\")\n",
    "  \n",
    "  if (random)\n",
    "    sample(bob$painting_title, 1)\n",
    "  else\n",
    "    bob$painting_title\n",
    "}\n",
    "\n",
    "plot_blobs <- function(painting=\"Downstream View\"){\n",
    "  if (!exists(\"bob\", .GlobalEnv))\n",
    "    stop(\"You haven't loaded the dataset! Run bob = get_bobross() first.\")\n",
    "  if (!is.character(painting))\n",
    "    stop(\"painting_title must be the name of a painting in quotations. Run get_help().\")\n",
    "  \n",
    "  d <- filter(bob, painting_title == painting) %>% \n",
    "    unnest(cols = c(colors, color_hex)) %>% \n",
    "    select(colors, color_hex) %>%\n",
    "    mutate(x = runif(n(), min = -8, max = 8),\n",
    "           y = runif(n(), min = -8, max = 8))\n",
    "  \n",
    "  ggplot(d, aes(x, y, color = colors)) + geom_point(alpha = .7, size = 32) +\n",
    "    theme_void() + scale_color_manual(values = d$color_hex) +\n",
    "    theme(legend.position=\"none\") +\n",
    "    annotate('text', x = d$x, y = d$y,\n",
    "             label = d$colors, size = 3, color = 'grey20') +\n",
    "    xlim(-1.3*8, 1.3*8) + ylim(-1.3*8, 1.3*8) +\n",
    "    ggtitle(label = painting)\n",
    "}\n",
    "\n",
    "\n",
    "\n",
    "plot_cloud <- function(painting=\"Downstream View\"){\n",
    "  if (!exists(\"bob\", .GlobalEnv))\n",
    "    stop(\"You haven't loaded the dataset! Run bob = get_bobross() first.\")\n",
    "  if (!is.character(painting))\n",
    "    stop(\"painting_title must be the name of a painting in quotations. Run get_help().\")\n",
    "  \n",
    "  d <- filter(bob, painting_title == painting) %>% \n",
    "    unnest(cols = c(colors, color_hex)) %>% \n",
    "    select(colors, color_hex)\n",
    "  \n",
    "  color_vals <- d$color_hex\n",
    "  \n",
    "  d <- mutate(d, \n",
    "              xc = runif(n(), min = -8, max = 8),\n",
    "              yc = runif(n(), min = -8, max = 8)) %>%\n",
    "    mutate(cloud = map2(xc, yc, ~ tibble(x = runif(100, min = .x-1.5, max = .x+1.5),\n",
    "                                         y = runif(100, min = .y-1.5, max = .y+1.5)))\n",
    "           ) %>% unnest(cols = cloud) %>%\n",
    "    select(colors, color_hex, x, y)\n",
    "  \n",
    "  ggplot(d, aes(x, y, color = colors)) + geom_point(alpha = .6, size = 10) +\n",
    "    theme_void() + scale_color_manual(values = color_vals) +\n",
    "    theme(legend.position=\"none\") +\n",
    "    xlim(-1.3*8, 1.3*8) + ylim(-1.3*8, 1.3*8) +\n",
    "    ggtitle(label = paste0(painting, \"\\n\", \"with happy little clouds\"))\n",
    "}"
   ]
  },
  {
   "cell_type": "markdown",
   "metadata": {},
   "source": [
    "## Part 2: Load the data\n",
    "Run the following code chunk (select the chunk then press Ctrl+Enter).\n",
    "\n",
    "**Here you run the get_bobross() function to**\n",
    "\n",
    "- load the csv file\n",
    "- into a 'data frame'\n",
    "- called 'bob', which holds all of the data here\n",
    "\n",
    "#### What is a data frame?\n",
    "Think of it as a spreadsheet. It has rows and columns, and each cell holds some data: a word, a number, a list of words.\n",
    "\n",
    "![](https://d33wubrfki0l68.cloudfront.net/6f1ddb544fc5c69a2478e444ab8112fb0eea23f8/91adc/images/tidy-1.png)\n",
    "\n",
    "Image source: r4ds.had.co.nz (R for Data Science)"
   ]
  },
  {
   "cell_type": "code",
   "execution_count": null,
   "metadata": {},
   "outputs": [],
   "source": [
    "bob = get_bobross()\n",
    "bob"
   ]
  },
  {
   "cell_type": "markdown",
   "metadata": {},
   "source": [
    "## Part 3: First look at the data\n",
    "\n",
    "Subsequent functions we run now can access the 'bob' dataset.\n",
    "\n",
    "How do you know you did anything when the code gives no output?\n",
    "\n",
    "**Here you run bob.columns to**\n",
    "- access a list of all column names for bob\n",
    "\n",
    "**Then you run the function get_painting_names() to**\n",
    "\n",
    "- print all painting names across all seasons of the Joy of Painting\n",
    "- in other words, you are printing the column called 'painting_title' in the bob data frame\n",
    "\n",
    "Since there are a lot of names, the display will only show the first and last several items, with the ellipses '...' in between to remind you there's more in the column than what is shown."
   ]
  },
  {
   "cell_type": "code",
   "execution_count": null,
   "metadata": {},
   "outputs": [],
   "source": [
    "colnames()"
   ]
  },
  {
   "cell_type": "code",
   "execution_count": null,
   "metadata": {},
   "outputs": [],
   "source": [
    "get_painting_names()"
   ]
  },
  {
   "cell_type": "markdown",
   "metadata": {},
   "source": [
    "## Part 4: Functions and arguments\n",
    "\n",
    "A function does something then produces an output. It can take inputs, called arguments, or not. This is a universal concept in all coding languages, mathematics and beyond. We have seen two functions so far that take no inputs: get_bobross() and get_painting_names().\n",
    "\n",
    "### Arugments and defaults\n",
    "Many functions can be run with or without inputs (aka arguments). If you do not specify what an argument's value should be, then the function should use some default value.\n",
    "\n",
    "The function get_painting_names() in fact has one argument, called random. It tells the function whether to \n",
    "\n",
    "- print *all* painting names by specifying `random = False` in the parentheses\n",
    "- or to *pick a random one* by specifying `random = True`\n",
    "\n",
    "The default is `random = False`, as you can see from the fact that get_painting_names(), which specifies no arguments, gave us all names.\n",
    "\n",
    "**Here you run get_painting_names(random = True) to**\n",
    "\n",
    "- choose a random painting name from all possible values\n",
    "- run it several times to get different results!"
   ]
  },
  {
   "cell_type": "code",
   "execution_count": null,
   "metadata": {},
   "outputs": [],
   "source": [
    "get_painting_names(random = True)"
   ]
  },
  {
   "cell_type": "markdown",
   "metadata": {},
   "source": [
    "## Part 5: Make a plot of the colors used in a painting\n",
    "Plotting data is a great way to look at it. \n",
    "\n",
    "Our dataset has the colors Bob used for each painting, so let's check it out!\n",
    "\n",
    "**Here you run plot_blobs() to**\n",
    "\n",
    "- fill in circles with each of the colors used\n",
    "- in the painting \"Downstream View\"\n",
    "- where the circle locations are randomly chosen (run it several times!)\n",
    "- but the colors are the actual ones Bob used, as specified in our dataset"
   ]
  },
  {
   "cell_type": "code",
   "execution_count": null,
   "metadata": {},
   "outputs": [],
   "source": [
    "plot_blobs()"
   ]
  },
  {
   "cell_type": "markdown",
   "metadata": {},
   "source": [
    "### Downstream View, from twoinchbrush.com\n",
    "\n",
    "![](https://www.twoinchbrush.com/images/painting329.png)"
   ]
  },
  {
   "cell_type": "markdown",
   "metadata": {},
   "source": [
    "### Blobs for different paintings\n",
    "plot_blobs takes one argument, the name of the painting whose colors you want to plot. \"Downstream View\" is the default painting to use if you specify no arguments. Let's change it up.\n",
    "\n",
    "\n",
    "**Here you run plot_blobs(painting = \"Through the Window\") to**\n",
    "\n",
    "- plot color blobs as above, but for the specified painting instead of the default"
   ]
  },
  {
   "cell_type": "code",
   "execution_count": null,
   "metadata": {},
   "outputs": [],
   "source": [
    "plot_blobs(painting = \"Through the Window\")"
   ]
  },
  {
   "cell_type": "markdown",
   "metadata": {},
   "source": [
    "### arguments without the `=`\n",
    "If there is no confusion about which argument you are trying to specify, you can just put the argument value without the `argument name = argument value` syntax. This makes your code a little more concise and easier to read.\n",
    "\n",
    "Since plot_blobs has only one argument there is no confusion, and you can run"
   ]
  },
  {
   "cell_type": "code",
   "execution_count": null,
   "metadata": {},
   "outputs": [],
   "source": [
    "plot_blobs(\"Through the Window\")"
   ]
  },
  {
   "cell_type": "markdown",
   "metadata": {},
   "source": [
    "### Through the Window\n",
    "\n",
    "![](https://www.twoinchbrush.com/images/painting392.png)"
   ]
  },
  {
   "cell_type": "markdown",
   "metadata": {},
   "source": [
    "## Part 6: So much plotting you can do\n",
    "\n",
    "pandas, and python in general, has a *huge* amount of flexibility in plots you can create from data.  Here, we just *take one small step* away from plotting blobs to plotting point clouds with the plot_cloud function. You use it just like the plot_blobs function.\n",
    "\n",
    "**Here you run plot_cloud(\"Through the Window\") to**\n",
    "\n",
    "- generate a random point cloud for each color used in \"Through the Window\"\n",
    "- plot it, with the real color value as in plot_blobs"
   ]
  },
  {
   "cell_type": "code",
   "execution_count": null,
   "metadata": {},
   "outputs": [],
   "source": [
    "plot_cloud(\"Through the Window\")"
   ]
  },
  {
   "cell_type": "code",
   "execution_count": null,
   "metadata": {},
   "outputs": [],
   "source": [
    "get_painting_names(True)"
   ]
  },
  {
   "cell_type": "markdown",
   "metadata": {},
   "source": [
    "## Part 7: Output of one, input of other\n",
    "\n",
    "Each function has some output, and usually the function *returns* an object that can be used elsewhere in your code.\n",
    "\n",
    "For example, we saw the get_bobross() function returns a data frame, which we called bob by writing the code `bob = get_bobross()`.\n",
    "\n",
    "Similarly, we saw `get_painting_names(True)` returns a single painting name in quotations. Since this is exactly the kind of argument our plotting functions need, we can use the output of get_painting_names as the argument in plot_cloud!\n",
    "\n",
    "**Here you run plot_cloud(get_painting_names(True)) to**\n",
    "\n",
    "- first randomly choose a painting name (using the statement inside the outermost parentheses)\n",
    "- and use it as the argument for plot_cloud\n",
    "- to show color point clouds for a that random painting"
   ]
  },
  {
   "cell_type": "code",
   "execution_count": null,
   "metadata": {},
   "outputs": [],
   "source": [
    "plot_cloud(get_painting_names(True))\n",
    "plot_blobs(get_painting_names(True))"
   ]
  },
  {
   "cell_type": "markdown",
   "metadata": {},
   "source": [
    "### or save the painting name for multiple uses\n",
    "Using the `=` statement just like with `bob = get_bobross()` we can assign a randomly chosen painting name to an object for later use. Let's call it `rpaint`. This way we can plot blobs and clouds for the same painting. \n",
    "\n",
    "**Here you run rpaint = get_painting_names(True) to**\n",
    "\n",
    "- select a random painting name\n",
    "- store it as an object called rpaint\n",
    "\n",
    "**then plot_cloud(rpaint), plot_blobs(rpaint) to**\n",
    "\n",
    "- show blobs and clouds for the random painting chosen"
   ]
  },
  {
   "cell_type": "code",
   "execution_count": null,
   "metadata": {},
   "outputs": [],
   "source": [
    "rpaint = get_painting_names(True)\n",
    "rpaint"
   ]
  },
  {
   "cell_type": "code",
   "execution_count": null,
   "metadata": {},
   "outputs": [],
   "source": [
    "plot_cloud(rpaint)"
   ]
  },
  {
   "cell_type": "code",
   "execution_count": null,
   "metadata": {},
   "outputs": [],
   "source": [
    "plot_blobs(rpaint)"
   ]
  },
  {
   "cell_type": "markdown",
   "metadata": {},
   "source": [
    "### TODO FOR R: Part 8: Summarize the data\n",
    "\n",
    "Here we will just *dip a toe* into the vast pool of options for summarizing data with pandas in python. This section is not indended to show you *how* to do that, which requires more coding than we can cover, but to give you the idea of what can be done with relatively little experience or work.\n",
    "\n",
    "We will answer two questions...\n",
    "\n",
    "#### How many times each season did Bob use a given color?\n",
    "\n",
    "#### How many times did Bob use a given color, across all seasons?"
   ]
  },
  {
   "cell_type": "markdown",
   "metadata": {},
   "source": [
    "### How many times each season?\n",
    "\n",
    "The function colors_byseason by default returns the total number of times Bob used each color, for each television season.\n",
    "\n",
    "**Here you run colors_byseason() to**\n",
    "\n",
    "- return a data frame with the number of times Bob used a color, for each color and season"
   ]
  },
  {
   "cell_type": "code",
   "execution_count": null,
   "metadata": {},
   "outputs": [],
   "source": [
    "#colors_byseason()"
   ]
  },
  {
   "cell_type": "markdown",
   "metadata": {},
   "source": [
    "### Too many columns to look at\n",
    "Looking at big tables can be annoying. Let's look at this information for just *one color*.\n",
    "\n",
    "The colors_byseason() function as an argument called `color`. Specify a color name to see the output for that color.\n",
    "\n",
    "**Here you run colors_byseason(color = \"Alizarin Crimson\") to**\n",
    "\n",
    "- return a data frame showing the number of times Bob used that color per season\n",
    "\n",
    "**Important!**\n",
    "\n",
    "Notice I wrote \"Alizarin Crimson\", as the color appears in the output of get_painting_names(). Typing \"alizarin crimson\", \"Alizarin_Crimson\" or anything else that is not *exactly* a painting name as written in the list will return an error.\n",
    "\n",
    "This is an important lesson in coding: You need to specify arguments exactly as the function requires them to be. If you wanted to allow variations of the same name, such as \"alizarin crimson\" or \"Alizarin_Crimson\", you would need to modify the function to interpret that input correctly!"
   ]
  },
  {
   "cell_type": "code",
   "execution_count": null,
   "metadata": {},
   "outputs": [],
   "source": [
    "#colors_byseason(\"Alizarin Crimson\")"
   ]
  },
  {
   "cell_type": "markdown",
   "metadata": {},
   "source": [
    "#### Example of the error from mis-specifying your argument\n",
    "\n",
    "Whoops... See what went wrong in the `SystemExit` message. This error message written specially for this tutorial. Often python error messages are helpful, but just as often they are not.  They always come with a bunch of information you might not find useful, so learn to look for the relevant bits."
   ]
  },
  {
   "cell_type": "code",
   "execution_count": null,
   "metadata": {},
   "outputs": [],
   "source": [
    "#colors_byseason(color = \"Alizarin\")"
   ]
  },
  {
   "cell_type": "markdown",
   "metadata": {},
   "source": [
    "### How many times across all seasons?\n",
    "\n",
    "This one is easier.\n",
    "\n",
    "**Here you run colors_show() to**\n",
    "\n",
    "- view the total number of times Bob used a color\n",
    "- across all seasons\n",
    "\n",
    "**and colors_show(\"Black Gesso\") to**\n",
    "\n",
    "- view the total number of times Bob used that color across all seasons"
   ]
  },
  {
   "cell_type": "code",
   "execution_count": null,
   "metadata": {},
   "outputs": [],
   "source": [
    "#colors_show()"
   ]
  },
  {
   "cell_type": "code",
   "execution_count": null,
   "metadata": {},
   "outputs": [],
   "source": [
    "#colors_show(\"Black Gesso\")"
   ]
  },
  {
   "cell_type": "markdown",
   "metadata": {},
   "source": [
    "# An exercise for you\n",
    "\n",
    "Actually, the function colors_by_season has two arguments! \n",
    "\n",
    "- `painting` which can be set equal to \"all\" (the default) or a specific painting name, as you saw above\n",
    "- `stat` which can be set to \"total\" (the default) to give total number of times a painting was used\n",
    "- or set `stat` to \"mean\" to give the *average* number of times a painting was used each season\n",
    "\n",
    "We might want to know the average number of times a painting was used because the number of episodes in each season varies.\n",
    "\n",
    "**Use the syntax `argument name = argument value` to input two arguments to colors_by_season and show the average number of times a painting was used, or all of them.**\n",
    "\n",
    "To specify multiple arguments for a function, use a comma between them inside the parentheses. "
   ]
  },
  {
   "cell_type": "code",
   "execution_count": null,
   "metadata": {},
   "outputs": [],
   "source": []
  },
  {
   "cell_type": "markdown",
   "metadata": {},
   "source": [
    "## TODO FOR R: On to the next level!\n",
    "\n",
    "See `next_bobross_R.ipynb`."
   ]
  }
 ],
 "metadata": {
  "kernelspec": {
   "display_name": "R",
   "language": "R",
   "name": "ir"
  },
  "language_info": {
   "codemirror_mode": {
    "name": "ipython",
    "version": 3
   },
   "file_extension": ".py",
   "mimetype": "text/x-python",
   "name": "python",
   "nbconvert_exporter": "python",
   "pygments_lexer": "ipython3",
   "version": "3.8.5"
  }
 },
 "nbformat": 4,
 "nbformat_minor": 4
}
